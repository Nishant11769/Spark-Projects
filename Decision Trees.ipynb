{
  "nbformat": 4,
  "nbformat_minor": 0,
  "metadata": {
    "colab": {
      "name": "Decision Trees.ipynb",
      "provenance": [],
      "collapsed_sections": [],
      "authorship_tag": "ABX9TyPvqCKUTsDj/KT1Mwo+yHw8",
      "include_colab_link": true
    },
    "kernelspec": {
      "name": "python3",
      "display_name": "Python 3"
    },
    "language_info": {
      "name": "python"
    }
  },
  "cells": [
    {
      "cell_type": "markdown",
      "metadata": {
        "id": "view-in-github",
        "colab_type": "text"
      },
      "source": [
        "<a href=\"https://colab.research.google.com/github/Nishant11769/Spark-Projects/blob/main/Decision%20Trees.ipynb\" target=\"_parent\"><img src=\"https://colab.research.google.com/assets/colab-badge.svg\" alt=\"Open In Colab\"/></a>"
      ]
    },
    {
      "cell_type": "code",
      "metadata": {
        "id": "zLQFWl6OcptE"
      },
      "source": [
        "import pandas as pd\n",
        "import numpy as np\n",
        "import sklearn.datasets as datasets\n",
        "from sklearn.model_selection import train_test_split\n",
        "from sklearn.tree import DecisionTreeClassifier\n",
        "import matplotlib.pyplot as plt"
      ],
      "execution_count": 2,
      "outputs": []
    },
    {
      "cell_type": "code",
      "metadata": {
        "id": "vVyHGlQ6c33N"
      },
      "source": [
        "iris=datasets.load_iris()\n",
        "df=pd.DataFrame(iris.data)\n",
        "columns=iris.feature_names\n",
        "Y=iris.target"
      ],
      "execution_count": 3,
      "outputs": []
    },
    {
      "cell_type": "code",
      "metadata": {
        "id": "IMgPI06tdUl5"
      },
      "source": [
        "train_x,test_x,train_y,test_y=train_test_split(df,Y,train_size=0.8)"
      ],
      "execution_count": 4,
      "outputs": []
    },
    {
      "cell_type": "code",
      "metadata": {
        "colab": {
          "base_uri": "https://localhost:8080/"
        },
        "id": "S9WlR2SYd_60",
        "outputId": "8c597a10-472e-459b-e7e4-dd62b5d4200b"
      },
      "source": [
        "print(train_x)"
      ],
      "execution_count": 5,
      "outputs": [
        {
          "output_type": "stream",
          "text": [
            "       0    1    2    3\n",
            "136  6.3  3.4  5.6  2.4\n",
            "143  6.8  3.2  5.9  2.3\n",
            "86   6.7  3.1  4.7  1.5\n",
            "67   5.8  2.7  4.1  1.0\n",
            "7    5.0  3.4  1.5  0.2\n",
            "..   ...  ...  ...  ...\n",
            "147  6.5  3.0  5.2  2.0\n",
            "103  6.3  2.9  5.6  1.8\n",
            "38   4.4  3.0  1.3  0.2\n",
            "114  5.8  2.8  5.1  2.4\n",
            "118  7.7  2.6  6.9  2.3\n",
            "\n",
            "[120 rows x 4 columns]\n"
          ],
          "name": "stdout"
        }
      ]
    },
    {
      "cell_type": "code",
      "metadata": {
        "colab": {
          "base_uri": "https://localhost:8080/"
        },
        "id": "3Oz-raYHgPEm",
        "outputId": "fd833825-573c-483e-f6bb-9b5831601c70"
      },
      "source": [
        "clf=DecisionTreeClassifier()\n",
        "clf.fit(train_x,train_y)"
      ],
      "execution_count": 6,
      "outputs": [
        {
          "output_type": "execute_result",
          "data": {
            "text/plain": [
              "DecisionTreeClassifier(ccp_alpha=0.0, class_weight=None, criterion='gini',\n",
              "                       max_depth=None, max_features=None, max_leaf_nodes=None,\n",
              "                       min_impurity_decrease=0.0, min_impurity_split=None,\n",
              "                       min_samples_leaf=1, min_samples_split=2,\n",
              "                       min_weight_fraction_leaf=0.0, presort='deprecated',\n",
              "                       random_state=None, splitter='best')"
            ]
          },
          "metadata": {
            "tags": []
          },
          "execution_count": 6
        }
      ]
    },
    {
      "cell_type": "code",
      "metadata": {
        "colab": {
          "base_uri": "https://localhost:8080/"
        },
        "id": "awvxjPbyhLSL",
        "outputId": "73a5dfe6-f0bc-4ff5-8bf3-b4947c1a0f2f"
      },
      "source": [
        "pred_y=clf.predict(test_x)\n",
        "print(pred_y)"
      ],
      "execution_count": 7,
      "outputs": [
        {
          "output_type": "stream",
          "text": [
            "[2 0 1 2 0 1 1 2 1 1 0 0 1 0 2 1 1 0 2 2 0 1 0 1 0 0 0 2 2 0]\n"
          ],
          "name": "stdout"
        }
      ]
    },
    {
      "cell_type": "code",
      "metadata": {
        "colab": {
          "base_uri": "https://localhost:8080/"
        },
        "id": "EAiMySfNmekd",
        "outputId": "703f3759-fa19-4413-e9bd-2bd19574c229"
      },
      "source": [
        "test_y"
      ],
      "execution_count": 8,
      "outputs": [
        {
          "output_type": "execute_result",
          "data": {
            "text/plain": [
              "array([2, 0, 1, 2, 0, 1, 2, 2, 1, 1, 0, 0, 2, 0, 2, 2, 1, 0, 2, 2, 0, 1,\n",
              "       0, 1, 0, 0, 0, 1, 2, 0])"
            ]
          },
          "metadata": {
            "tags": []
          },
          "execution_count": 8
        }
      ]
    },
    {
      "cell_type": "code",
      "metadata": {
        "colab": {
          "base_uri": "https://localhost:8080/",
          "height": 1000
        },
        "id": "06bzr52RZ-jF",
        "outputId": "5cbcdc05-84bc-49de-95c7-b885fa4a7a42"
      },
      "source": [
        "import graphviz\n",
        "from sklearn import tree\n",
        "# DOT data\n",
        "dot_data = tree.export_graphviz(clf, out_file=None, \n",
        "                                feature_names=iris.feature_names,  \n",
        "                                class_names=iris.target_names,\n",
        "                                filled=True)\n",
        "\n",
        "# Draw graph\n",
        "graph = graphviz.Source(dot_data, format=\"png\") \n",
        "graph"
      ],
      "execution_count": 9,
      "outputs": [
        {
          "output_type": "execute_result",
          "data": {
            "text/plain": [
              "<graphviz.files.Source at 0x7fe78d7b4e90>"
            ],
            "image/svg+xml": "<?xml version=\"1.0\" encoding=\"UTF-8\" standalone=\"no\"?>\n<!DOCTYPE svg PUBLIC \"-//W3C//DTD SVG 1.1//EN\"\n \"http://www.w3.org/Graphics/SVG/1.1/DTD/svg11.dtd\">\n<!-- Generated by graphviz version 2.40.1 (20161225.0304)\n -->\n<!-- Title: Tree Pages: 1 -->\n<svg width=\"668pt\" height=\"790pt\"\n viewBox=\"0.00 0.00 668.00 790.00\" xmlns=\"http://www.w3.org/2000/svg\" xmlns:xlink=\"http://www.w3.org/1999/xlink\">\n<g id=\"graph0\" class=\"graph\" transform=\"scale(1 1) rotate(0) translate(4 786)\">\n<title>Tree</title>\n<polygon fill=\"#ffffff\" stroke=\"transparent\" points=\"-4,4 -4,-786 664,-786 664,4 -4,4\"/>\n<!-- 0 -->\n<g id=\"node1\" class=\"node\">\n<title>0</title>\n<polygon fill=\"#fafefc\" stroke=\"#000000\" points=\"361.5,-782 197.5,-782 197.5,-699 361.5,-699 361.5,-782\"/>\n<text text-anchor=\"middle\" x=\"279.5\" y=\"-766.8\" font-family=\"Times,serif\" font-size=\"14.00\" fill=\"#000000\">petal length (cm) &lt;= 2.45</text>\n<text text-anchor=\"middle\" x=\"279.5\" y=\"-751.8\" font-family=\"Times,serif\" font-size=\"14.00\" fill=\"#000000\">gini = 0.666</text>\n<text text-anchor=\"middle\" x=\"279.5\" y=\"-736.8\" font-family=\"Times,serif\" font-size=\"14.00\" fill=\"#000000\">samples = 120</text>\n<text text-anchor=\"middle\" x=\"279.5\" y=\"-721.8\" font-family=\"Times,serif\" font-size=\"14.00\" fill=\"#000000\">value = [38, 42, 40]</text>\n<text text-anchor=\"middle\" x=\"279.5\" y=\"-706.8\" font-family=\"Times,serif\" font-size=\"14.00\" fill=\"#000000\">class = versicolor</text>\n</g>\n<!-- 1 -->\n<g id=\"node2\" class=\"node\">\n<title>1</title>\n<polygon fill=\"#e58139\" stroke=\"#000000\" points=\"259,-655.5 142,-655.5 142,-587.5 259,-587.5 259,-655.5\"/>\n<text text-anchor=\"middle\" x=\"200.5\" y=\"-640.3\" font-family=\"Times,serif\" font-size=\"14.00\" fill=\"#000000\">gini = 0.0</text>\n<text text-anchor=\"middle\" x=\"200.5\" y=\"-625.3\" font-family=\"Times,serif\" font-size=\"14.00\" fill=\"#000000\">samples = 38</text>\n<text text-anchor=\"middle\" x=\"200.5\" y=\"-610.3\" font-family=\"Times,serif\" font-size=\"14.00\" fill=\"#000000\">value = [38, 0, 0]</text>\n<text text-anchor=\"middle\" x=\"200.5\" y=\"-595.3\" font-family=\"Times,serif\" font-size=\"14.00\" fill=\"#000000\">class = setosa</text>\n</g>\n<!-- 0&#45;&gt;1 -->\n<g id=\"edge1\" class=\"edge\">\n<title>0&#45;&gt;1</title>\n<path fill=\"none\" stroke=\"#000000\" d=\"M251.8696,-698.8796C244.4237,-687.6636 236.3575,-675.5131 228.8718,-664.2372\"/>\n<polygon fill=\"#000000\" stroke=\"#000000\" points=\"231.7273,-662.2104 223.2805,-655.8149 225.8954,-666.082 231.7273,-662.2104\"/>\n<text text-anchor=\"middle\" x=\"218.33\" y=\"-676.6199\" font-family=\"Times,serif\" font-size=\"14.00\" fill=\"#000000\">True</text>\n</g>\n<!-- 2 -->\n<g id=\"node3\" class=\"node\">\n<title>2</title>\n<polygon fill=\"#f6fef9\" stroke=\"#000000\" points=\"441.5,-663 277.5,-663 277.5,-580 441.5,-580 441.5,-663\"/>\n<text text-anchor=\"middle\" x=\"359.5\" y=\"-647.8\" font-family=\"Times,serif\" font-size=\"14.00\" fill=\"#000000\">petal length (cm) &lt;= 4.85</text>\n<text text-anchor=\"middle\" x=\"359.5\" y=\"-632.8\" font-family=\"Times,serif\" font-size=\"14.00\" fill=\"#000000\">gini = 0.5</text>\n<text text-anchor=\"middle\" x=\"359.5\" y=\"-617.8\" font-family=\"Times,serif\" font-size=\"14.00\" fill=\"#000000\">samples = 82</text>\n<text text-anchor=\"middle\" x=\"359.5\" y=\"-602.8\" font-family=\"Times,serif\" font-size=\"14.00\" fill=\"#000000\">value = [0, 42, 40]</text>\n<text text-anchor=\"middle\" x=\"359.5\" y=\"-587.8\" font-family=\"Times,serif\" font-size=\"14.00\" fill=\"#000000\">class = versicolor</text>\n</g>\n<!-- 0&#45;&gt;2 -->\n<g id=\"edge2\" class=\"edge\">\n<title>0&#45;&gt;2</title>\n<path fill=\"none\" stroke=\"#000000\" d=\"M307.4801,-698.8796C313.3531,-690.1434 319.6073,-680.8404 325.6679,-671.8253\"/>\n<polygon fill=\"#000000\" stroke=\"#000000\" points=\"328.7259,-673.5498 331.4005,-663.2981 322.9166,-669.6444 328.7259,-673.5498\"/>\n<text text-anchor=\"middle\" x=\"336.2085\" y=\"-684.1314\" font-family=\"Times,serif\" font-size=\"14.00\" fill=\"#000000\">False</text>\n</g>\n<!-- 3 -->\n<g id=\"node4\" class=\"node\">\n<title>3</title>\n<polygon fill=\"#3ee684\" stroke=\"#000000\" points=\"354,-544 189,-544 189,-461 354,-461 354,-544\"/>\n<text text-anchor=\"middle\" x=\"271.5\" y=\"-528.8\" font-family=\"Times,serif\" font-size=\"14.00\" fill=\"#000000\">sepal length (cm) &lt;= 4.95</text>\n<text text-anchor=\"middle\" x=\"271.5\" y=\"-513.8\" font-family=\"Times,serif\" font-size=\"14.00\" fill=\"#000000\">gini = 0.048</text>\n<text text-anchor=\"middle\" x=\"271.5\" y=\"-498.8\" font-family=\"Times,serif\" font-size=\"14.00\" fill=\"#000000\">samples = 41</text>\n<text text-anchor=\"middle\" x=\"271.5\" y=\"-483.8\" font-family=\"Times,serif\" font-size=\"14.00\" fill=\"#000000\">value = [0, 40, 1]</text>\n<text text-anchor=\"middle\" x=\"271.5\" y=\"-468.8\" font-family=\"Times,serif\" font-size=\"14.00\" fill=\"#000000\">class = versicolor</text>\n</g>\n<!-- 2&#45;&gt;3 -->\n<g id=\"edge3\" class=\"edge\">\n<title>2&#45;&gt;3</title>\n<path fill=\"none\" stroke=\"#000000\" d=\"M328.7219,-579.8796C322.1949,-571.0534 315.2401,-561.6485 308.5092,-552.5466\"/>\n<polygon fill=\"#000000\" stroke=\"#000000\" points=\"311.1695,-550.2574 302.4095,-544.2981 305.5412,-554.4195 311.1695,-550.2574\"/>\n</g>\n<!-- 8 -->\n<g id=\"node9\" class=\"node\">\n<title>8</title>\n<polygon fill=\"#8743e6\" stroke=\"#000000\" points=\"525,-544 372,-544 372,-461 525,-461 525,-544\"/>\n<text text-anchor=\"middle\" x=\"448.5\" y=\"-528.8\" font-family=\"Times,serif\" font-size=\"14.00\" fill=\"#000000\">petal width (cm) &lt;= 1.7</text>\n<text text-anchor=\"middle\" x=\"448.5\" y=\"-513.8\" font-family=\"Times,serif\" font-size=\"14.00\" fill=\"#000000\">gini = 0.093</text>\n<text text-anchor=\"middle\" x=\"448.5\" y=\"-498.8\" font-family=\"Times,serif\" font-size=\"14.00\" fill=\"#000000\">samples = 41</text>\n<text text-anchor=\"middle\" x=\"448.5\" y=\"-483.8\" font-family=\"Times,serif\" font-size=\"14.00\" fill=\"#000000\">value = [0, 2, 39]</text>\n<text text-anchor=\"middle\" x=\"448.5\" y=\"-468.8\" font-family=\"Times,serif\" font-size=\"14.00\" fill=\"#000000\">class = virginica</text>\n</g>\n<!-- 2&#45;&gt;8 -->\n<g id=\"edge8\" class=\"edge\">\n<title>2&#45;&gt;8</title>\n<path fill=\"none\" stroke=\"#000000\" d=\"M390.6279,-579.8796C397.229,-571.0534 404.2629,-561.6485 411.0702,-552.5466\"/>\n<polygon fill=\"#000000\" stroke=\"#000000\" points=\"414.0528,-554.4024 417.2393,-544.2981 408.4472,-550.2099 414.0528,-554.4024\"/>\n</g>\n<!-- 4 -->\n<g id=\"node5\" class=\"node\">\n<title>4</title>\n<polygon fill=\"#ffffff\" stroke=\"#000000\" points=\"199.5,-425 43.5,-425 43.5,-342 199.5,-342 199.5,-425\"/>\n<text text-anchor=\"middle\" x=\"121.5\" y=\"-409.8\" font-family=\"Times,serif\" font-size=\"14.00\" fill=\"#000000\">petal length (cm) &lt;= 3.9</text>\n<text text-anchor=\"middle\" x=\"121.5\" y=\"-394.8\" font-family=\"Times,serif\" font-size=\"14.00\" fill=\"#000000\">gini = 0.5</text>\n<text text-anchor=\"middle\" x=\"121.5\" y=\"-379.8\" font-family=\"Times,serif\" font-size=\"14.00\" fill=\"#000000\">samples = 2</text>\n<text text-anchor=\"middle\" x=\"121.5\" y=\"-364.8\" font-family=\"Times,serif\" font-size=\"14.00\" fill=\"#000000\">value = [0, 1, 1]</text>\n<text text-anchor=\"middle\" x=\"121.5\" y=\"-349.8\" font-family=\"Times,serif\" font-size=\"14.00\" fill=\"#000000\">class = versicolor</text>\n</g>\n<!-- 3&#45;&gt;4 -->\n<g id=\"edge4\" class=\"edge\">\n<title>3&#45;&gt;4</title>\n<path fill=\"none\" stroke=\"#000000\" d=\"M219.0373,-460.8796C207.0479,-451.368 194.2113,-441.1843 181.9184,-431.432\"/>\n<polygon fill=\"#000000\" stroke=\"#000000\" points=\"183.9425,-428.5701 173.9331,-425.0969 179.5919,-434.054 183.9425,-428.5701\"/>\n</g>\n<!-- 7 -->\n<g id=\"node8\" class=\"node\">\n<title>7</title>\n<polygon fill=\"#39e581\" stroke=\"#000000\" points=\"335,-417.5 218,-417.5 218,-349.5 335,-349.5 335,-417.5\"/>\n<text text-anchor=\"middle\" x=\"276.5\" y=\"-402.3\" font-family=\"Times,serif\" font-size=\"14.00\" fill=\"#000000\">gini = 0.0</text>\n<text text-anchor=\"middle\" x=\"276.5\" y=\"-387.3\" font-family=\"Times,serif\" font-size=\"14.00\" fill=\"#000000\">samples = 39</text>\n<text text-anchor=\"middle\" x=\"276.5\" y=\"-372.3\" font-family=\"Times,serif\" font-size=\"14.00\" fill=\"#000000\">value = [0, 39, 0]</text>\n<text text-anchor=\"middle\" x=\"276.5\" y=\"-357.3\" font-family=\"Times,serif\" font-size=\"14.00\" fill=\"#000000\">class = versicolor</text>\n</g>\n<!-- 3&#45;&gt;7 -->\n<g id=\"edge7\" class=\"edge\">\n<title>3&#45;&gt;7</title>\n<path fill=\"none\" stroke=\"#000000\" d=\"M273.2488,-460.8796C273.6969,-450.2134 274.1806,-438.7021 274.6344,-427.9015\"/>\n<polygon fill=\"#000000\" stroke=\"#000000\" points=\"278.1352,-427.9531 275.0582,-417.8149 271.1414,-427.6592 278.1352,-427.9531\"/>\n</g>\n<!-- 5 -->\n<g id=\"node6\" class=\"node\">\n<title>5</title>\n<polygon fill=\"#39e581\" stroke=\"#000000\" points=\"115,-298.5 0,-298.5 0,-230.5 115,-230.5 115,-298.5\"/>\n<text text-anchor=\"middle\" x=\"57.5\" y=\"-283.3\" font-family=\"Times,serif\" font-size=\"14.00\" fill=\"#000000\">gini = 0.0</text>\n<text text-anchor=\"middle\" x=\"57.5\" y=\"-268.3\" font-family=\"Times,serif\" font-size=\"14.00\" fill=\"#000000\">samples = 1</text>\n<text text-anchor=\"middle\" x=\"57.5\" y=\"-253.3\" font-family=\"Times,serif\" font-size=\"14.00\" fill=\"#000000\">value = [0, 1, 0]</text>\n<text text-anchor=\"middle\" x=\"57.5\" y=\"-238.3\" font-family=\"Times,serif\" font-size=\"14.00\" fill=\"#000000\">class = versicolor</text>\n</g>\n<!-- 4&#45;&gt;5 -->\n<g id=\"edge5\" class=\"edge\">\n<title>4&#45;&gt;5</title>\n<path fill=\"none\" stroke=\"#000000\" d=\"M99.1159,-341.8796C93.202,-330.8835 86.8051,-318.9893 80.842,-307.9015\"/>\n<polygon fill=\"#000000\" stroke=\"#000000\" points=\"83.7742,-305.9642 75.9551,-298.8149 77.6092,-309.2799 83.7742,-305.9642\"/>\n</g>\n<!-- 6 -->\n<g id=\"node7\" class=\"node\">\n<title>6</title>\n<polygon fill=\"#8139e5\" stroke=\"#000000\" points=\"243.5,-298.5 133.5,-298.5 133.5,-230.5 243.5,-230.5 243.5,-298.5\"/>\n<text text-anchor=\"middle\" x=\"188.5\" y=\"-283.3\" font-family=\"Times,serif\" font-size=\"14.00\" fill=\"#000000\">gini = 0.0</text>\n<text text-anchor=\"middle\" x=\"188.5\" y=\"-268.3\" font-family=\"Times,serif\" font-size=\"14.00\" fill=\"#000000\">samples = 1</text>\n<text text-anchor=\"middle\" x=\"188.5\" y=\"-253.3\" font-family=\"Times,serif\" font-size=\"14.00\" fill=\"#000000\">value = [0, 0, 1]</text>\n<text text-anchor=\"middle\" x=\"188.5\" y=\"-238.3\" font-family=\"Times,serif\" font-size=\"14.00\" fill=\"#000000\">class = virginica</text>\n</g>\n<!-- 4&#45;&gt;6 -->\n<g id=\"edge6\" class=\"edge\">\n<title>4&#45;&gt;6</title>\n<path fill=\"none\" stroke=\"#000000\" d=\"M144.9333,-341.8796C151.1863,-330.7735 157.9552,-318.7513 164.251,-307.5691\"/>\n<polygon fill=\"#000000\" stroke=\"#000000\" points=\"167.3235,-309.2459 169.1798,-298.8149 161.2239,-305.8116 167.3235,-309.2459\"/>\n</g>\n<!-- 9 -->\n<g id=\"node10\" class=\"node\">\n<title>9</title>\n<polygon fill=\"#d5bdf6\" stroke=\"#000000\" points=\"524.5,-425 362.5,-425 362.5,-342 524.5,-342 524.5,-425\"/>\n<text text-anchor=\"middle\" x=\"443.5\" y=\"-409.8\" font-family=\"Times,serif\" font-size=\"14.00\" fill=\"#000000\">sepal width (cm) &lt;= 3.05</text>\n<text text-anchor=\"middle\" x=\"443.5\" y=\"-394.8\" font-family=\"Times,serif\" font-size=\"14.00\" fill=\"#000000\">gini = 0.48</text>\n<text text-anchor=\"middle\" x=\"443.5\" y=\"-379.8\" font-family=\"Times,serif\" font-size=\"14.00\" fill=\"#000000\">samples = 5</text>\n<text text-anchor=\"middle\" x=\"443.5\" y=\"-364.8\" font-family=\"Times,serif\" font-size=\"14.00\" fill=\"#000000\">value = [0, 2, 3]</text>\n<text text-anchor=\"middle\" x=\"443.5\" y=\"-349.8\" font-family=\"Times,serif\" font-size=\"14.00\" fill=\"#000000\">class = virginica</text>\n</g>\n<!-- 8&#45;&gt;9 -->\n<g id=\"edge9\" class=\"edge\">\n<title>8&#45;&gt;9</title>\n<path fill=\"none\" stroke=\"#000000\" d=\"M446.7512,-460.8796C446.4069,-452.6838 446.0416,-443.9891 445.6849,-435.5013\"/>\n<polygon fill=\"#000000\" stroke=\"#000000\" points=\"449.173,-435.1423 445.2562,-425.2981 442.1792,-435.4362 449.173,-435.1423\"/>\n</g>\n<!-- 16 -->\n<g id=\"node17\" class=\"node\">\n<title>16</title>\n<polygon fill=\"#8139e5\" stroke=\"#000000\" points=\"660,-417.5 543,-417.5 543,-349.5 660,-349.5 660,-417.5\"/>\n<text text-anchor=\"middle\" x=\"601.5\" y=\"-402.3\" font-family=\"Times,serif\" font-size=\"14.00\" fill=\"#000000\">gini = 0.0</text>\n<text text-anchor=\"middle\" x=\"601.5\" y=\"-387.3\" font-family=\"Times,serif\" font-size=\"14.00\" fill=\"#000000\">samples = 36</text>\n<text text-anchor=\"middle\" x=\"601.5\" y=\"-372.3\" font-family=\"Times,serif\" font-size=\"14.00\" fill=\"#000000\">value = [0, 0, 36]</text>\n<text text-anchor=\"middle\" x=\"601.5\" y=\"-357.3\" font-family=\"Times,serif\" font-size=\"14.00\" fill=\"#000000\">class = virginica</text>\n</g>\n<!-- 8&#45;&gt;16 -->\n<g id=\"edge16\" class=\"edge\">\n<title>8&#45;&gt;16</title>\n<path fill=\"none\" stroke=\"#000000\" d=\"M502.012,-460.8796C517.2808,-449.0038 533.8966,-436.0804 549.0984,-424.2568\"/>\n<polygon fill=\"#000000\" stroke=\"#000000\" points=\"551.6361,-426.7171 557.3808,-417.8149 547.3384,-421.1916 551.6361,-426.7171\"/>\n</g>\n<!-- 10 -->\n<g id=\"node11\" class=\"node\">\n<title>10</title>\n<polygon fill=\"#ab7bee\" stroke=\"#000000\" points=\"469.5,-306 307.5,-306 307.5,-223 469.5,-223 469.5,-306\"/>\n<text text-anchor=\"middle\" x=\"388.5\" y=\"-290.8\" font-family=\"Times,serif\" font-size=\"14.00\" fill=\"#000000\">sepal width (cm) &lt;= 2.75</text>\n<text text-anchor=\"middle\" x=\"388.5\" y=\"-275.8\" font-family=\"Times,serif\" font-size=\"14.00\" fill=\"#000000\">gini = 0.375</text>\n<text text-anchor=\"middle\" x=\"388.5\" y=\"-260.8\" font-family=\"Times,serif\" font-size=\"14.00\" fill=\"#000000\">samples = 4</text>\n<text text-anchor=\"middle\" x=\"388.5\" y=\"-245.8\" font-family=\"Times,serif\" font-size=\"14.00\" fill=\"#000000\">value = [0, 1, 3]</text>\n<text text-anchor=\"middle\" x=\"388.5\" y=\"-230.8\" font-family=\"Times,serif\" font-size=\"14.00\" fill=\"#000000\">class = virginica</text>\n</g>\n<!-- 9&#45;&gt;10 -->\n<g id=\"edge10\" class=\"edge\">\n<title>9&#45;&gt;10</title>\n<path fill=\"none\" stroke=\"#000000\" d=\"M424.2637,-341.8796C420.3092,-333.3236 416.1034,-324.2238 412.0175,-315.3833\"/>\n<polygon fill=\"#000000\" stroke=\"#000000\" points=\"415.191,-313.907 407.8184,-306.2981 408.8368,-316.8439 415.191,-313.907\"/>\n</g>\n<!-- 15 -->\n<g id=\"node16\" class=\"node\">\n<title>15</title>\n<polygon fill=\"#39e581\" stroke=\"#000000\" points=\"603,-298.5 488,-298.5 488,-230.5 603,-230.5 603,-298.5\"/>\n<text text-anchor=\"middle\" x=\"545.5\" y=\"-283.3\" font-family=\"Times,serif\" font-size=\"14.00\" fill=\"#000000\">gini = 0.0</text>\n<text text-anchor=\"middle\" x=\"545.5\" y=\"-268.3\" font-family=\"Times,serif\" font-size=\"14.00\" fill=\"#000000\">samples = 1</text>\n<text text-anchor=\"middle\" x=\"545.5\" y=\"-253.3\" font-family=\"Times,serif\" font-size=\"14.00\" fill=\"#000000\">value = [0, 1, 0]</text>\n<text text-anchor=\"middle\" x=\"545.5\" y=\"-238.3\" font-family=\"Times,serif\" font-size=\"14.00\" fill=\"#000000\">class = versicolor</text>\n</g>\n<!-- 9&#45;&gt;15 -->\n<g id=\"edge15\" class=\"edge\">\n<title>9&#45;&gt;15</title>\n<path fill=\"none\" stroke=\"#000000\" d=\"M479.1747,-341.8796C488.9769,-330.4436 499.6118,-318.0363 509.4357,-306.575\"/>\n<polygon fill=\"#000000\" stroke=\"#000000\" points=\"512.2367,-308.6853 516.0872,-298.8149 506.9218,-304.1297 512.2367,-308.6853\"/>\n</g>\n<!-- 11 -->\n<g id=\"node12\" class=\"node\">\n<title>11</title>\n<polygon fill=\"#ffffff\" stroke=\"#000000\" points=\"392.5,-187 230.5,-187 230.5,-104 392.5,-104 392.5,-187\"/>\n<text text-anchor=\"middle\" x=\"311.5\" y=\"-171.8\" font-family=\"Times,serif\" font-size=\"14.00\" fill=\"#000000\">sepal width (cm) &lt;= 2.45</text>\n<text text-anchor=\"middle\" x=\"311.5\" y=\"-156.8\" font-family=\"Times,serif\" font-size=\"14.00\" fill=\"#000000\">gini = 0.5</text>\n<text text-anchor=\"middle\" x=\"311.5\" y=\"-141.8\" font-family=\"Times,serif\" font-size=\"14.00\" fill=\"#000000\">samples = 2</text>\n<text text-anchor=\"middle\" x=\"311.5\" y=\"-126.8\" font-family=\"Times,serif\" font-size=\"14.00\" fill=\"#000000\">value = [0, 1, 1]</text>\n<text text-anchor=\"middle\" x=\"311.5\" y=\"-111.8\" font-family=\"Times,serif\" font-size=\"14.00\" fill=\"#000000\">class = versicolor</text>\n</g>\n<!-- 10&#45;&gt;11 -->\n<g id=\"edge11\" class=\"edge\">\n<title>10&#45;&gt;11</title>\n<path fill=\"none\" stroke=\"#000000\" d=\"M361.5691,-222.8796C355.9163,-214.1434 349.8967,-204.8404 344.0634,-195.8253\"/>\n<polygon fill=\"#000000\" stroke=\"#000000\" points=\"346.9169,-193.7924 338.5458,-187.2981 341.0399,-197.5952 346.9169,-193.7924\"/>\n</g>\n<!-- 14 -->\n<g id=\"node15\" class=\"node\">\n<title>14</title>\n<polygon fill=\"#8139e5\" stroke=\"#000000\" points=\"520.5,-179.5 410.5,-179.5 410.5,-111.5 520.5,-111.5 520.5,-179.5\"/>\n<text text-anchor=\"middle\" x=\"465.5\" y=\"-164.3\" font-family=\"Times,serif\" font-size=\"14.00\" fill=\"#000000\">gini = 0.0</text>\n<text text-anchor=\"middle\" x=\"465.5\" y=\"-149.3\" font-family=\"Times,serif\" font-size=\"14.00\" fill=\"#000000\">samples = 2</text>\n<text text-anchor=\"middle\" x=\"465.5\" y=\"-134.3\" font-family=\"Times,serif\" font-size=\"14.00\" fill=\"#000000\">value = [0, 0, 2]</text>\n<text text-anchor=\"middle\" x=\"465.5\" y=\"-119.3\" font-family=\"Times,serif\" font-size=\"14.00\" fill=\"#000000\">class = virginica</text>\n</g>\n<!-- 10&#45;&gt;14 -->\n<g id=\"edge14\" class=\"edge\">\n<title>10&#45;&gt;14</title>\n<path fill=\"none\" stroke=\"#000000\" d=\"M415.4309,-222.8796C422.6883,-211.6636 430.5503,-199.5131 437.8465,-188.2372\"/>\n<polygon fill=\"#000000\" stroke=\"#000000\" points=\"440.8022,-190.112 443.2962,-179.8149 434.9252,-186.3093 440.8022,-190.112\"/>\n</g>\n<!-- 12 -->\n<g id=\"node13\" class=\"node\">\n<title>12</title>\n<polygon fill=\"#8139e5\" stroke=\"#000000\" points=\"301.5,-68 191.5,-68 191.5,0 301.5,0 301.5,-68\"/>\n<text text-anchor=\"middle\" x=\"246.5\" y=\"-52.8\" font-family=\"Times,serif\" font-size=\"14.00\" fill=\"#000000\">gini = 0.0</text>\n<text text-anchor=\"middle\" x=\"246.5\" y=\"-37.8\" font-family=\"Times,serif\" font-size=\"14.00\" fill=\"#000000\">samples = 1</text>\n<text text-anchor=\"middle\" x=\"246.5\" y=\"-22.8\" font-family=\"Times,serif\" font-size=\"14.00\" fill=\"#000000\">value = [0, 0, 1]</text>\n<text text-anchor=\"middle\" x=\"246.5\" y=\"-7.8\" font-family=\"Times,serif\" font-size=\"14.00\" fill=\"#000000\">class = virginica</text>\n</g>\n<!-- 11&#45;&gt;12 -->\n<g id=\"edge12\" class=\"edge\">\n<title>11&#45;&gt;12</title>\n<path fill=\"none\" stroke=\"#000000\" d=\"M287.2964,-103.9815C282.1529,-95.1585 276.7123,-85.8258 271.5384,-76.9506\"/>\n<polygon fill=\"#000000\" stroke=\"#000000\" points=\"274.5344,-75.1402 266.4743,-68.2637 268.487,-78.6656 274.5344,-75.1402\"/>\n</g>\n<!-- 13 -->\n<g id=\"node14\" class=\"node\">\n<title>13</title>\n<polygon fill=\"#39e581\" stroke=\"#000000\" points=\"435,-68 320,-68 320,0 435,0 435,-68\"/>\n<text text-anchor=\"middle\" x=\"377.5\" y=\"-52.8\" font-family=\"Times,serif\" font-size=\"14.00\" fill=\"#000000\">gini = 0.0</text>\n<text text-anchor=\"middle\" x=\"377.5\" y=\"-37.8\" font-family=\"Times,serif\" font-size=\"14.00\" fill=\"#000000\">samples = 1</text>\n<text text-anchor=\"middle\" x=\"377.5\" y=\"-22.8\" font-family=\"Times,serif\" font-size=\"14.00\" fill=\"#000000\">value = [0, 1, 0]</text>\n<text text-anchor=\"middle\" x=\"377.5\" y=\"-7.8\" font-family=\"Times,serif\" font-size=\"14.00\" fill=\"#000000\">class = versicolor</text>\n</g>\n<!-- 11&#45;&gt;13 -->\n<g id=\"edge13\" class=\"edge\">\n<title>11&#45;&gt;13</title>\n<path fill=\"none\" stroke=\"#000000\" d=\"M336.076,-103.9815C341.2986,-95.1585 346.8229,-85.8258 352.0763,-76.9506\"/>\n<polygon fill=\"#000000\" stroke=\"#000000\" points=\"355.1364,-78.652 357.2184,-68.2637 349.1126,-75.0863 355.1364,-78.652\"/>\n</g>\n</g>\n</svg>\n"
          },
          "metadata": {
            "tags": []
          },
          "execution_count": 9
        }
      ]
    },
    {
      "cell_type": "code",
      "metadata": {
        "colab": {
          "base_uri": "https://localhost:8080/",
          "height": 279
        },
        "id": "ZZhrWoKLmgrW",
        "outputId": "83394bb7-8813-4aff-8af7-6d22c079195a"
      },
      "source": [
        "n1,n2=1,3\n",
        "col={0:'b',1:'g',2:'r'}\n",
        "s=[[[],[]],[[],[]],[[],[]]]\n",
        "for i in range(150):\n",
        "  a=df[n1][i]\n",
        "  b=df[n2][i]\n",
        "  ind=Y[i]\n",
        "  s[ind][0].append(a)\n",
        "  s[ind][1].append(b)\n",
        "for i in range(3):\n",
        "  plt.scatter(s[i][0],s[i][1],c=col[i])\n",
        "plt.xlabel(columns[n1])\n",
        "plt.ylabel(columns[n2])\n",
        "plt.show()"
      ],
      "execution_count": 16,
      "outputs": [
        {
          "output_type": "display_data",
          "data": {
            "image/png": "[encoded data removed]",
            "text/plain": [
              "<Figure size 432x288 with 1 Axes>"
            ]
          },
          "metadata": {
            "tags": [],
            "needs_background": "light"
          }
        }
      ]
    },
    {
      "cell_type": "code",
      "metadata": {
        "colab": {
          "base_uri": "https://localhost:8080/"
        },
        "id": "lvDHq-sn0vgQ",
        "outputId": "6d075c78-76a8-4c16-ef79-cf1f4b190e7d"
      },
      "source": [
        "print(pred_y==test_y)"
      ],
      "execution_count": 11,
      "outputs": [
        {
          "output_type": "stream",
          "text": [
            "[ True  True  True  True  True  True False  True  True  True  True  True\n",
            " False  True  True False  True  True  True  True  True  True  True  True\n",
            "  True  True  True False  True  True]\n"
          ],
          "name": "stdout"
        }
      ]
    }
  ]
}