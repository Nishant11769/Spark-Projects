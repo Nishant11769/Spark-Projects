{
  "nbformat": 4,
  "nbformat_minor": 0,
  "metadata": {
    "colab": {
      "name": "Decision Trees.ipynb",
      "provenance": [],
      "collapsed_sections": [],
      "authorship_tag": "ABX9TyMu+hO1TPjikF94qWDWYXxi",
      "include_colab_link": true
    },
    "kernelspec": {
      "name": "python3",
      "display_name": "Python 3"
    },
    "language_info": {
      "name": "python"
    }
  },
  "cells": [
    {
      "cell_type": "markdown",
      "metadata": {
        "id": "view-in-github",
        "colab_type": "text"
      },
      "source": [
        "<a href=\"https://colab.research.google.com/github/Nishant11769/Spark-Projects/blob/main/Decision%20Trees.ipynb\" target=\"_parent\"><img src=\"https://colab.research.google.com/assets/colab-badge.svg\" alt=\"Open In Colab\"/></a>"
      ]
    },
    {
      "cell_type": "markdown",
      "metadata": {
        "id": "NcYhixKvue4d"
      },
      "source": [
        "# Decision Trees"
      ]
    },
    {
      "cell_type": "markdown",
      "metadata": {
        "id": "X8oje2gpukUi"
      },
      "source": [
        "## Importing required libraries"
      ]
    },
    {
      "cell_type": "code",
      "metadata": {
        "id": "zLQFWl6OcptE"
      },
      "source": [
        "import pandas as pd\n",
        "import numpy as np\n",
        "import sklearn.datasets as datasets\n",
        "from sklearn.model_selection import train_test_split\n",
        "from sklearn.tree import DecisionTreeClassifier\n",
        "import matplotlib.pyplot as plt"
      ],
      "execution_count": 20,
      "outputs": []
    },
    {
      "cell_type": "markdown",
      "metadata": {
        "id": "3vGkj_YiuxWs"
      },
      "source": [
        "## Loading Iris Dataset"
      ]
    },
    {
      "cell_type": "code",
      "metadata": {
        "id": "vVyHGlQ6c33N"
      },
      "source": [
        "iris=datasets.load_iris()\n",
        "df=pd.DataFrame(iris.data)\n",
        "columns=iris.feature_names\n",
        "Y=iris.target"
      ],
      "execution_count": 21,
      "outputs": []
    },
    {
      "cell_type": "code",
      "metadata": {
        "id": "IMgPI06tdUl5"
      },
      "source": [
        "#split into train and test set\n",
        "train_x,test_x,train_y,test_y=train_test_split(df,Y,train_size=0.8)"
      ],
      "execution_count": 22,
      "outputs": []
    },
    {
      "cell_type": "code",
      "metadata": {
        "colab": {
          "base_uri": "https://localhost:8080/"
        },
        "id": "S9WlR2SYd_60",
        "outputId": "1bca3ca7-d218-4208-bfcc-9f607ce4f11d"
      },
      "source": [
        "print(train_x)"
      ],
      "execution_count": 23,
      "outputs": [
        {
          "output_type": "stream",
          "text": [
            "       0    1    2    3\n",
            "27   5.2  3.5  1.5  0.2\n",
            "135  7.7  3.0  6.1  2.3\n",
            "22   4.6  3.6  1.0  0.2\n",
            "91   6.1  3.0  4.6  1.4\n",
            "49   5.0  3.3  1.4  0.2\n",
            "..   ...  ...  ...  ...\n",
            "60   5.0  2.0  3.5  1.0\n",
            "7    5.0  3.4  1.5  0.2\n",
            "127  6.1  3.0  4.9  1.8\n",
            "73   6.1  2.8  4.7  1.2\n",
            "1    4.9  3.0  1.4  0.2\n",
            "\n",
            "[120 rows x 4 columns]\n"
          ],
          "name": "stdout"
        }
      ]
    },
    {
      "cell_type": "markdown",
      "metadata": {
        "id": "oeLotDmCu92X"
      },
      "source": [
        "## Defining classifier and fitting on dataset"
      ]
    },
    {
      "cell_type": "code",
      "metadata": {
        "colab": {
          "base_uri": "https://localhost:8080/"
        },
        "id": "3Oz-raYHgPEm",
        "outputId": "d449d650-01d4-4b94-a75d-3fc662c053ae"
      },
      "source": [
        "clf=DecisionTreeClassifier()\n",
        "clf.fit(train_x,train_y)"
      ],
      "execution_count": 24,
      "outputs": [
        {
          "output_type": "execute_result",
          "data": {
            "text/plain": [
              "DecisionTreeClassifier(ccp_alpha=0.0, class_weight=None, criterion='gini',\n",
              "                       max_depth=None, max_features=None, max_leaf_nodes=None,\n",
              "                       min_impurity_decrease=0.0, min_impurity_split=None,\n",
              "                       min_samples_leaf=1, min_samples_split=2,\n",
              "                       min_weight_fraction_leaf=0.0, presort='deprecated',\n",
              "                       random_state=None, splitter='best')"
            ]
          },
          "metadata": {
            "tags": []
          },
          "execution_count": 24
        }
      ]
    },
    {
      "cell_type": "markdown",
      "metadata": {
        "id": "t8RvZrAsvH1v"
      },
      "source": [
        "## Predictions on test dataset"
      ]
    },
    {
      "cell_type": "code",
      "metadata": {
        "colab": {
          "base_uri": "https://localhost:8080/"
        },
        "id": "awvxjPbyhLSL",
        "outputId": "0c56bf34-c253-43fc-d315-abf31aa4d1de"
      },
      "source": [
        "pred_y=clf.predict(test_x)\n",
        "print(pred_y)"
      ],
      "execution_count": 25,
      "outputs": [
        {
          "output_type": "stream",
          "text": [
            "[2 0 1 1 2 2 2 0 2 1 0 2 0 2 2 1 1 1 1 1 2 1 1 1 1 1 0 1 1 0]\n"
          ],
          "name": "stdout"
        }
      ]
    },
    {
      "cell_type": "code",
      "metadata": {
        "colab": {
          "base_uri": "https://localhost:8080/"
        },
        "id": "EAiMySfNmekd",
        "outputId": "9f72af02-114d-47b9-ec02-cb8bbc0f8b75"
      },
      "source": [
        "print(test_y)"
      ],
      "execution_count": 26,
      "outputs": [
        {
          "output_type": "stream",
          "text": [
            "[2 0 1 1 1 2 2 0 2 1 0 2 0 2 2 1 2 1 1 1 2 1 1 1 1 2 0 1 1 0]\n"
          ],
          "name": "stdout"
        }
      ]
    },
    {
      "cell_type": "markdown",
      "metadata": {
        "id": "_Z9GwJ4nvdkC"
      },
      "source": [
        "## Plotting tree "
      ]
    },
    {
      "cell_type": "code",
      "metadata": {
        "colab": {
          "base_uri": "https://localhost:8080/",
          "height": 757
        },
        "id": "06bzr52RZ-jF",
        "outputId": "be85b489-1483-4f33-ca54-684805478cf8"
      },
      "source": [
        "import graphviz\n",
        "from sklearn import tree\n",
        "# DOT data\n",
        "dot_data = tree.export_graphviz(clf, out_file=None, \n",
        "                                feature_names=iris.feature_names,  \n",
        "                                class_names=iris.target_names,\n",
        "                                filled=True)\n",
        "\n",
        "# Draw graph\n",
        "graph = graphviz.Source(dot_data, format=\"png\") \n",
        "graph"
      ],
      "execution_count": 27,
      "outputs": [
        {
          "output_type": "execute_result",
          "data": {
            "text/plain": [
              "<graphviz.files.Source at 0x7fe788720f90>"
            ],
            "image/svg+xml": "<?xml version=\"1.0\" encoding=\"UTF-8\" standalone=\"no\"?>\n<!DOCTYPE svg PUBLIC \"-//W3C//DTD SVG 1.1//EN\"\n \"http://www.w3.org/Graphics/SVG/1.1/DTD/svg11.dtd\">\n<!-- Generated by graphviz version 2.40.1 (20161225.0304)\n -->\n<!-- Title: Tree Pages: 1 -->\n<svg width=\"616pt\" height=\"552pt\"\n viewBox=\"0.00 0.00 616.00 552.00\" xmlns=\"http://www.w3.org/2000/svg\" xmlns:xlink=\"http://www.w3.org/1999/xlink\">\n<g id=\"graph0\" class=\"graph\" transform=\"scale(1 1) rotate(0) translate(4 548)\">\n<title>Tree</title>\n<polygon fill=\"#ffffff\" stroke=\"transparent\" points=\"-4,4 -4,-548 612,-548 612,4 -4,4\"/>\n<!-- 0 -->\n<g id=\"node1\" class=\"node\">\n<title>0</title>\n<polygon fill=\"#fef9f5\" stroke=\"#000000\" points=\"309.5,-544 145.5,-544 145.5,-461 309.5,-461 309.5,-544\"/>\n<text text-anchor=\"middle\" x=\"227.5\" y=\"-528.8\" font-family=\"Times,serif\" font-size=\"14.00\" fill=\"#000000\">petal length (cm) &lt;= 2.45</text>\n<text text-anchor=\"middle\" x=\"227.5\" y=\"-513.8\" font-family=\"Times,serif\" font-size=\"14.00\" fill=\"#000000\">gini = 0.664</text>\n<text text-anchor=\"middle\" x=\"227.5\" y=\"-498.8\" font-family=\"Times,serif\" font-size=\"14.00\" fill=\"#000000\">samples = 120</text>\n<text text-anchor=\"middle\" x=\"227.5\" y=\"-483.8\" font-family=\"Times,serif\" font-size=\"14.00\" fill=\"#000000\">value = [44, 36, 40]</text>\n<text text-anchor=\"middle\" x=\"227.5\" y=\"-468.8\" font-family=\"Times,serif\" font-size=\"14.00\" fill=\"#000000\">class = setosa</text>\n</g>\n<!-- 1 -->\n<g id=\"node2\" class=\"node\">\n<title>1</title>\n<polygon fill=\"#e58139\" stroke=\"#000000\" points=\"208,-417.5 91,-417.5 91,-349.5 208,-349.5 208,-417.5\"/>\n<text text-anchor=\"middle\" x=\"149.5\" y=\"-402.3\" font-family=\"Times,serif\" font-size=\"14.00\" fill=\"#000000\">gini = 0.0</text>\n<text text-anchor=\"middle\" x=\"149.5\" y=\"-387.3\" font-family=\"Times,serif\" font-size=\"14.00\" fill=\"#000000\">samples = 44</text>\n<text text-anchor=\"middle\" x=\"149.5\" y=\"-372.3\" font-family=\"Times,serif\" font-size=\"14.00\" fill=\"#000000\">value = [44, 0, 0]</text>\n<text text-anchor=\"middle\" x=\"149.5\" y=\"-357.3\" font-family=\"Times,serif\" font-size=\"14.00\" fill=\"#000000\">class = setosa</text>\n</g>\n<!-- 0&#45;&gt;1 -->\n<g id=\"edge1\" class=\"edge\">\n<title>0&#45;&gt;1</title>\n<path fill=\"none\" stroke=\"#000000\" d=\"M200.2194,-460.8796C192.8677,-449.6636 184.9036,-437.5131 177.5126,-426.2372\"/>\n<polygon fill=\"#000000\" stroke=\"#000000\" points=\"180.4014,-424.2598 171.9921,-417.8149 174.5469,-428.0972 180.4014,-424.2598\"/>\n<text text-anchor=\"middle\" x=\"166.8982\" y=\"-438.5905\" font-family=\"Times,serif\" font-size=\"14.00\" fill=\"#000000\">True</text>\n</g>\n<!-- 2 -->\n<g id=\"node3\" class=\"node\">\n<title>2</title>\n<polygon fill=\"#f2ebfc\" stroke=\"#000000\" points=\"387,-425 226,-425 226,-342 387,-342 387,-425\"/>\n<text text-anchor=\"middle\" x=\"306.5\" y=\"-409.8\" font-family=\"Times,serif\" font-size=\"14.00\" fill=\"#000000\">petal width (cm) &lt;= 1.65</text>\n<text text-anchor=\"middle\" x=\"306.5\" y=\"-394.8\" font-family=\"Times,serif\" font-size=\"14.00\" fill=\"#000000\">gini = 0.499</text>\n<text text-anchor=\"middle\" x=\"306.5\" y=\"-379.8\" font-family=\"Times,serif\" font-size=\"14.00\" fill=\"#000000\">samples = 76</text>\n<text text-anchor=\"middle\" x=\"306.5\" y=\"-364.8\" font-family=\"Times,serif\" font-size=\"14.00\" fill=\"#000000\">value = [0, 36, 40]</text>\n<text text-anchor=\"middle\" x=\"306.5\" y=\"-349.8\" font-family=\"Times,serif\" font-size=\"14.00\" fill=\"#000000\">class = virginica</text>\n</g>\n<!-- 0&#45;&gt;2 -->\n<g id=\"edge2\" class=\"edge\">\n<title>0&#45;&gt;2</title>\n<path fill=\"none\" stroke=\"#000000\" d=\"M255.1304,-460.8796C260.93,-452.1434 267.1059,-442.8404 273.0908,-433.8253\"/>\n<polygon fill=\"#000000\" stroke=\"#000000\" points=\"276.1368,-435.5652 278.7517,-425.2981 270.3049,-431.6935 276.1368,-435.5652\"/>\n<text text-anchor=\"middle\" x=\"283.7022\" y=\"-446.103\" font-family=\"Times,serif\" font-size=\"14.00\" fill=\"#000000\">False</text>\n</g>\n<!-- 3 -->\n<g id=\"node4\" class=\"node\">\n<title>3</title>\n<polygon fill=\"#44e688\" stroke=\"#000000\" points=\"295.5,-306 139.5,-306 139.5,-223 295.5,-223 295.5,-306\"/>\n<text text-anchor=\"middle\" x=\"217.5\" y=\"-290.8\" font-family=\"Times,serif\" font-size=\"14.00\" fill=\"#000000\">petal length (cm) &lt;= 5.0</text>\n<text text-anchor=\"middle\" x=\"217.5\" y=\"-275.8\" font-family=\"Times,serif\" font-size=\"14.00\" fill=\"#000000\">gini = 0.102</text>\n<text text-anchor=\"middle\" x=\"217.5\" y=\"-260.8\" font-family=\"Times,serif\" font-size=\"14.00\" fill=\"#000000\">samples = 37</text>\n<text text-anchor=\"middle\" x=\"217.5\" y=\"-245.8\" font-family=\"Times,serif\" font-size=\"14.00\" fill=\"#000000\">value = [0, 35, 2]</text>\n<text text-anchor=\"middle\" x=\"217.5\" y=\"-230.8\" font-family=\"Times,serif\" font-size=\"14.00\" fill=\"#000000\">class = versicolor</text>\n</g>\n<!-- 2&#45;&gt;3 -->\n<g id=\"edge3\" class=\"edge\">\n<title>2&#45;&gt;3</title>\n<path fill=\"none\" stroke=\"#000000\" d=\"M275.3721,-341.8796C268.771,-333.0534 261.7371,-323.6485 254.9298,-314.5466\"/>\n<polygon fill=\"#000000\" stroke=\"#000000\" points=\"257.5528,-312.2099 248.7607,-306.2981 251.9472,-316.4024 257.5528,-312.2099\"/>\n</g>\n<!-- 8 -->\n<g id=\"node9\" class=\"node\">\n<title>8</title>\n<polygon fill=\"#843ee6\" stroke=\"#000000\" points=\"477.5,-306 313.5,-306 313.5,-223 477.5,-223 477.5,-306\"/>\n<text text-anchor=\"middle\" x=\"395.5\" y=\"-290.8\" font-family=\"Times,serif\" font-size=\"14.00\" fill=\"#000000\">petal length (cm) &lt;= 4.85</text>\n<text text-anchor=\"middle\" x=\"395.5\" y=\"-275.8\" font-family=\"Times,serif\" font-size=\"14.00\" fill=\"#000000\">gini = 0.05</text>\n<text text-anchor=\"middle\" x=\"395.5\" y=\"-260.8\" font-family=\"Times,serif\" font-size=\"14.00\" fill=\"#000000\">samples = 39</text>\n<text text-anchor=\"middle\" x=\"395.5\" y=\"-245.8\" font-family=\"Times,serif\" font-size=\"14.00\" fill=\"#000000\">value = [0, 1, 38]</text>\n<text text-anchor=\"middle\" x=\"395.5\" y=\"-230.8\" font-family=\"Times,serif\" font-size=\"14.00\" fill=\"#000000\">class = virginica</text>\n</g>\n<!-- 2&#45;&gt;8 -->\n<g id=\"edge8\" class=\"edge\">\n<title>2&#45;&gt;8</title>\n<path fill=\"none\" stroke=\"#000000\" d=\"M337.6279,-341.8796C344.229,-333.0534 351.2629,-323.6485 358.0702,-314.5466\"/>\n<polygon fill=\"#000000\" stroke=\"#000000\" points=\"361.0528,-316.4024 364.2393,-306.2981 355.4472,-312.2099 361.0528,-316.4024\"/>\n</g>\n<!-- 4 -->\n<g id=\"node5\" class=\"node\">\n<title>4</title>\n<polygon fill=\"#39e581\" stroke=\"#000000\" points=\"117,-179.5 0,-179.5 0,-111.5 117,-111.5 117,-179.5\"/>\n<text text-anchor=\"middle\" x=\"58.5\" y=\"-164.3\" font-family=\"Times,serif\" font-size=\"14.00\" fill=\"#000000\">gini = 0.0</text>\n<text text-anchor=\"middle\" x=\"58.5\" y=\"-149.3\" font-family=\"Times,serif\" font-size=\"14.00\" fill=\"#000000\">samples = 34</text>\n<text text-anchor=\"middle\" x=\"58.5\" y=\"-134.3\" font-family=\"Times,serif\" font-size=\"14.00\" fill=\"#000000\">value = [0, 34, 0]</text>\n<text text-anchor=\"middle\" x=\"58.5\" y=\"-119.3\" font-family=\"Times,serif\" font-size=\"14.00\" fill=\"#000000\">class = versicolor</text>\n</g>\n<!-- 3&#45;&gt;4 -->\n<g id=\"edge4\" class=\"edge\">\n<title>3&#45;&gt;4</title>\n<path fill=\"none\" stroke=\"#000000\" d=\"M161.8895,-222.8796C145.7987,-210.8368 128.2685,-197.7167 112.2909,-185.7586\"/>\n<polygon fill=\"#000000\" stroke=\"#000000\" points=\"114.1962,-182.8129 104.093,-179.623 110.0018,-188.4171 114.1962,-182.8129\"/>\n</g>\n<!-- 5 -->\n<g id=\"node6\" class=\"node\">\n<title>5</title>\n<polygon fill=\"#c09cf2\" stroke=\"#000000\" points=\"300,-187 135,-187 135,-104 300,-104 300,-187\"/>\n<text text-anchor=\"middle\" x=\"217.5\" y=\"-171.8\" font-family=\"Times,serif\" font-size=\"14.00\" fill=\"#000000\">sepal length (cm) &lt;= 6.15</text>\n<text text-anchor=\"middle\" x=\"217.5\" y=\"-156.8\" font-family=\"Times,serif\" font-size=\"14.00\" fill=\"#000000\">gini = 0.444</text>\n<text text-anchor=\"middle\" x=\"217.5\" y=\"-141.8\" font-family=\"Times,serif\" font-size=\"14.00\" fill=\"#000000\">samples = 3</text>\n<text text-anchor=\"middle\" x=\"217.5\" y=\"-126.8\" font-family=\"Times,serif\" font-size=\"14.00\" fill=\"#000000\">value = [0, 1, 2]</text>\n<text text-anchor=\"middle\" x=\"217.5\" y=\"-111.8\" font-family=\"Times,serif\" font-size=\"14.00\" fill=\"#000000\">class = virginica</text>\n</g>\n<!-- 3&#45;&gt;5 -->\n<g id=\"edge5\" class=\"edge\">\n<title>3&#45;&gt;5</title>\n<path fill=\"none\" stroke=\"#000000\" d=\"M217.5,-222.8796C217.5,-214.6838 217.5,-205.9891 217.5,-197.5013\"/>\n<polygon fill=\"#000000\" stroke=\"#000000\" points=\"221.0001,-197.298 217.5,-187.2981 214.0001,-197.2981 221.0001,-197.298\"/>\n</g>\n<!-- 6 -->\n<g id=\"node7\" class=\"node\">\n<title>6</title>\n<polygon fill=\"#39e581\" stroke=\"#000000\" points=\"156,-68 41,-68 41,0 156,0 156,-68\"/>\n<text text-anchor=\"middle\" x=\"98.5\" y=\"-52.8\" font-family=\"Times,serif\" font-size=\"14.00\" fill=\"#000000\">gini = 0.0</text>\n<text text-anchor=\"middle\" x=\"98.5\" y=\"-37.8\" font-family=\"Times,serif\" font-size=\"14.00\" fill=\"#000000\">samples = 1</text>\n<text text-anchor=\"middle\" x=\"98.5\" y=\"-22.8\" font-family=\"Times,serif\" font-size=\"14.00\" fill=\"#000000\">value = [0, 1, 0]</text>\n<text text-anchor=\"middle\" x=\"98.5\" y=\"-7.8\" font-family=\"Times,serif\" font-size=\"14.00\" fill=\"#000000\">class = versicolor</text>\n</g>\n<!-- 5&#45;&gt;6 -->\n<g id=\"edge6\" class=\"edge\">\n<title>5&#45;&gt;6</title>\n<path fill=\"none\" stroke=\"#000000\" d=\"M173.1888,-103.9815C163.1837,-94.607 152.5646,-84.6572 142.5696,-75.2921\"/>\n<polygon fill=\"#000000\" stroke=\"#000000\" points=\"144.7588,-72.547 135.0684,-68.2637 139.9726,-77.6551 144.7588,-72.547\"/>\n</g>\n<!-- 7 -->\n<g id=\"node8\" class=\"node\">\n<title>7</title>\n<polygon fill=\"#8139e5\" stroke=\"#000000\" points=\"284.5,-68 174.5,-68 174.5,0 284.5,0 284.5,-68\"/>\n<text text-anchor=\"middle\" x=\"229.5\" y=\"-52.8\" font-family=\"Times,serif\" font-size=\"14.00\" fill=\"#000000\">gini = 0.0</text>\n<text text-anchor=\"middle\" x=\"229.5\" y=\"-37.8\" font-family=\"Times,serif\" font-size=\"14.00\" fill=\"#000000\">samples = 2</text>\n<text text-anchor=\"middle\" x=\"229.5\" y=\"-22.8\" font-family=\"Times,serif\" font-size=\"14.00\" fill=\"#000000\">value = [0, 0, 2]</text>\n<text text-anchor=\"middle\" x=\"229.5\" y=\"-7.8\" font-family=\"Times,serif\" font-size=\"14.00\" fill=\"#000000\">class = virginica</text>\n</g>\n<!-- 5&#45;&gt;7 -->\n<g id=\"edge7\" class=\"edge\">\n<title>5&#45;&gt;7</title>\n<path fill=\"none\" stroke=\"#000000\" d=\"M221.9684,-103.9815C222.8685,-95.618 223.8179,-86.7965 224.7279,-78.3409\"/>\n<polygon fill=\"#000000\" stroke=\"#000000\" points=\"228.2222,-78.5808 225.8124,-68.2637 221.2624,-77.8317 228.2222,-78.5808\"/>\n</g>\n<!-- 9 -->\n<g id=\"node10\" class=\"node\">\n<title>9</title>\n<polygon fill=\"#c09cf2\" stroke=\"#000000\" points=\"473,-187 318,-187 318,-104 473,-104 473,-187\"/>\n<text text-anchor=\"middle\" x=\"395.5\" y=\"-171.8\" font-family=\"Times,serif\" font-size=\"14.00\" fill=\"#000000\">sepal width (cm) &lt;= 3.1</text>\n<text text-anchor=\"middle\" x=\"395.5\" y=\"-156.8\" font-family=\"Times,serif\" font-size=\"14.00\" fill=\"#000000\">gini = 0.444</text>\n<text text-anchor=\"middle\" x=\"395.5\" y=\"-141.8\" font-family=\"Times,serif\" font-size=\"14.00\" fill=\"#000000\">samples = 3</text>\n<text text-anchor=\"middle\" x=\"395.5\" y=\"-126.8\" font-family=\"Times,serif\" font-size=\"14.00\" fill=\"#000000\">value = [0, 1, 2]</text>\n<text text-anchor=\"middle\" x=\"395.5\" y=\"-111.8\" font-family=\"Times,serif\" font-size=\"14.00\" fill=\"#000000\">class = virginica</text>\n</g>\n<!-- 8&#45;&gt;9 -->\n<g id=\"edge9\" class=\"edge\">\n<title>8&#45;&gt;9</title>\n<path fill=\"none\" stroke=\"#000000\" d=\"M395.5,-222.8796C395.5,-214.6838 395.5,-205.9891 395.5,-197.5013\"/>\n<polygon fill=\"#000000\" stroke=\"#000000\" points=\"399.0001,-197.298 395.5,-187.2981 392.0001,-197.2981 399.0001,-197.298\"/>\n</g>\n<!-- 12 -->\n<g id=\"node13\" class=\"node\">\n<title>12</title>\n<polygon fill=\"#8139e5\" stroke=\"#000000\" points=\"608,-179.5 491,-179.5 491,-111.5 608,-111.5 608,-179.5\"/>\n<text text-anchor=\"middle\" x=\"549.5\" y=\"-164.3\" font-family=\"Times,serif\" font-size=\"14.00\" fill=\"#000000\">gini = 0.0</text>\n<text text-anchor=\"middle\" x=\"549.5\" y=\"-149.3\" font-family=\"Times,serif\" font-size=\"14.00\" fill=\"#000000\">samples = 36</text>\n<text text-anchor=\"middle\" x=\"549.5\" y=\"-134.3\" font-family=\"Times,serif\" font-size=\"14.00\" fill=\"#000000\">value = [0, 0, 36]</text>\n<text text-anchor=\"middle\" x=\"549.5\" y=\"-119.3\" font-family=\"Times,serif\" font-size=\"14.00\" fill=\"#000000\">class = virginica</text>\n</g>\n<!-- 8&#45;&gt;12 -->\n<g id=\"edge12\" class=\"edge\">\n<title>8&#45;&gt;12</title>\n<path fill=\"none\" stroke=\"#000000\" d=\"M449.3617,-222.8796C464.7304,-211.0038 481.4547,-198.0804 496.7559,-186.2568\"/>\n<polygon fill=\"#000000\" stroke=\"#000000\" points=\"499.3196,-188.699 505.0924,-179.8149 495.0395,-183.1599 499.3196,-188.699\"/>\n</g>\n<!-- 10 -->\n<g id=\"node11\" class=\"node\">\n<title>10</title>\n<polygon fill=\"#8139e5\" stroke=\"#000000\" points=\"437.5,-68 327.5,-68 327.5,0 437.5,0 437.5,-68\"/>\n<text text-anchor=\"middle\" x=\"382.5\" y=\"-52.8\" font-family=\"Times,serif\" font-size=\"14.00\" fill=\"#000000\">gini = 0.0</text>\n<text text-anchor=\"middle\" x=\"382.5\" y=\"-37.8\" font-family=\"Times,serif\" font-size=\"14.00\" fill=\"#000000\">samples = 2</text>\n<text text-anchor=\"middle\" x=\"382.5\" y=\"-22.8\" font-family=\"Times,serif\" font-size=\"14.00\" fill=\"#000000\">value = [0, 0, 2]</text>\n<text text-anchor=\"middle\" x=\"382.5\" y=\"-7.8\" font-family=\"Times,serif\" font-size=\"14.00\" fill=\"#000000\">class = virginica</text>\n</g>\n<!-- 9&#45;&gt;10 -->\n<g id=\"edge10\" class=\"edge\">\n<title>9&#45;&gt;10</title>\n<path fill=\"none\" stroke=\"#000000\" d=\"M390.6593,-103.9815C389.6842,-95.618 388.6557,-86.7965 387.6698,-78.3409\"/>\n<polygon fill=\"#000000\" stroke=\"#000000\" points=\"391.1295,-77.791 386.4949,-68.2637 384.1766,-78.6017 391.1295,-77.791\"/>\n</g>\n<!-- 11 -->\n<g id=\"node12\" class=\"node\">\n<title>11</title>\n<polygon fill=\"#39e581\" stroke=\"#000000\" points=\"571,-68 456,-68 456,0 571,0 571,-68\"/>\n<text text-anchor=\"middle\" x=\"513.5\" y=\"-52.8\" font-family=\"Times,serif\" font-size=\"14.00\" fill=\"#000000\">gini = 0.0</text>\n<text text-anchor=\"middle\" x=\"513.5\" y=\"-37.8\" font-family=\"Times,serif\" font-size=\"14.00\" fill=\"#000000\">samples = 1</text>\n<text text-anchor=\"middle\" x=\"513.5\" y=\"-22.8\" font-family=\"Times,serif\" font-size=\"14.00\" fill=\"#000000\">value = [0, 1, 0]</text>\n<text text-anchor=\"middle\" x=\"513.5\" y=\"-7.8\" font-family=\"Times,serif\" font-size=\"14.00\" fill=\"#000000\">class = versicolor</text>\n</g>\n<!-- 9&#45;&gt;11 -->\n<g id=\"edge11\" class=\"edge\">\n<title>9&#45;&gt;11</title>\n<path fill=\"none\" stroke=\"#000000\" d=\"M439.4388,-103.9815C449.3598,-94.607 459.8897,-84.6572 469.8008,-75.2921\"/>\n<polygon fill=\"#000000\" stroke=\"#000000\" points=\"472.3743,-77.6757 477.2389,-68.2637 467.5666,-72.5878 472.3743,-77.6757\"/>\n</g>\n</g>\n</svg>\n"
          },
          "metadata": {
            "tags": []
          },
          "execution_count": 27
        }
      ]
    },
    {
      "cell_type": "code",
      "metadata": {
        "colab": {
          "base_uri": "https://localhost:8080/",
          "height": 279
        },
        "id": "ZZhrWoKLmgrW",
        "outputId": "8671bfb6-ad98-4613-fb9d-e2485aa13f2a"
      },
      "source": [
        "n1,n2=1,3\n",
        "col={0:'b',1:'g',2:'r'}\n",
        "s=[[[],[]],[[],[]],[[],[]]]\n",
        "for i in range(150):\n",
        "  a=df[n1][i]\n",
        "  b=df[n2][i]\n",
        "  ind=Y[i]\n",
        "  s[ind][0].append(a)\n",
        "  s[ind][1].append(b)\n",
        "for i in range(3):\n",
        "  plt.scatter(s[i][0],s[i][1],c=col[i])\n",
        "plt.xlabel(columns[n1])\n",
        "plt.ylabel(columns[n2])\n",
        "plt.show()"
      ],
      "execution_count": 28,
      "outputs": [
        {
          "output_type": "display_data",
          "data": {
            "image/png": "[encoded data removed]",
            "text/plain": [
              "<Figure size 432x288 with 1 Axes>"
            ]
          },
          "metadata": {
            "tags": [],
            "needs_background": "light"
          }
        }
      ]
    },
    {
      "cell_type": "code",
      "metadata": {
        "colab": {
          "base_uri": "https://localhost:8080/"
        },
        "id": "lvDHq-sn0vgQ",
        "outputId": "404c7498-9e44-44dc-b438-1b1d747e8f8e"
      },
      "source": [
        "acc=(pred_y==test_y)\n",
        "accuracy=np.sum(acc)/len(acc)*100\n",
        "print(accuracy)"
      ],
      "execution_count": 29,
      "outputs": [
        {
          "output_type": "stream",
          "text": [
            "90.0\n"
          ],
          "name": "stdout"
        }
      ]
    }
  ]
}