{
  "nbformat": 4,
  "nbformat_minor": 0,
  "metadata": {
    "colab": {
      "name": "Linear Regression.ipynb",
      "provenance": [],
      "collapsed_sections": [],
      "authorship_tag": "ABX9TyPhh/w02RuLIIXX9eOccPVF",
      "include_colab_link": true
    },
    "kernelspec": {
      "name": "python3",
      "display_name": "Python 3"
    },
    "language_info": {
      "name": "python"
    }
  },
  "cells": [
    {
      "cell_type": "markdown",
      "metadata": {
        "id": "view-in-github",
        "colab_type": "text"
      },
      "source": [
        "<a href=\"https://colab.research.google.com/github/Nishant11769/Spark-Projects/blob/main/Linear_Regression.ipynb\" target=\"_parent\"><img src=\"https://colab.research.google.com/assets/colab-badge.svg\" alt=\"Open In Colab\"/></a>"
      ]
    },
    {
      "cell_type": "markdown",
      "metadata": {
        "id": "5Py9nnpReVaF"
      },
      "source": [
        "# Simple Linear Regression"
      ]
    },
    {
      "cell_type": "markdown",
      "metadata": {
        "id": "EBzj1YwaHuDm"
      },
      "source": [
        "## Importing required libraries"
      ]
    },
    {
      "cell_type": "code",
      "metadata": {
        "id": "rwXPe0PYhFLN"
      },
      "source": [
        "import numpy as np\n",
        "import matplotlib.pyplot as plt"
      ],
      "execution_count": 1,
      "outputs": []
    },
    {
      "cell_type": "markdown",
      "metadata": {
        "id": "pUStFzHbIND-"
      },
      "source": [
        "## Input and target variables"
      ]
    },
    {
      "cell_type": "code",
      "metadata": {
        "id": "vTpUW7WYewI2"
      },
      "source": [
        "hours=np.array([2.5, 5.1, 3.2, 8.5, 3.5, 1.5, 9.2, 5.5, 8.3, 2.7, 7.7, 5.9, 4.5, 3.3, 1.1, 8.9, 2.5, 1.9, 6.1, 7.4, 2.7, 4.8, 3.8, 6.9, 7.8])\n",
        "scores=np.array([21, 47, 27, 75, 30, 20, 88, 60, 81, 25, 85, 62, 41, 42, 17, 95, 30, 24, 67, 69, 30, 54, 35, 76, 86])"
      ],
      "execution_count": 2,
      "outputs": []
    },
    {
      "cell_type": "markdown",
      "metadata": {
        "id": "vv0XFMdwHsMw"
      },
      "source": [
        "## Defining predictor and loss function"
      ]
    },
    {
      "cell_type": "code",
      "metadata": {
        "id": "nt4f1ujKT9ga"
      },
      "source": [
        "def predict(x):\n",
        "  return w*x+b\n",
        "def loss(a,y):\n",
        "  return 0.5*np.sum((a-y)**2)/(m)\n"
      ],
      "execution_count": 10,
      "outputs": []
    },
    {
      "cell_type": "markdown",
      "metadata": {
        "id": "yPfRYyJGIggM"
      },
      "source": [
        "## Training the parameters"
      ]
    },
    {
      "cell_type": "code",
      "metadata": {
        "id": "fITTxrZjUDBy"
      },
      "source": [
        "w,b=0,0\n",
        "m=len(hours)\n",
        "alpha=0.01\n",
        "train_steps=100\n",
        "losses=[]\n",
        "for i in range(1,train_steps+1):\n",
        "  a=predict(hours)\n",
        "  l=loss(a,scores)\n",
        "  losses.append(l)\n",
        "  d_w=np.sum((a-scores)*hours)/m\n",
        "  d_b=np.sum(a-scores)\n",
        "  w=w-alpha*d_w\n",
        "  b=b-alpha*d_b\n"
      ],
      "execution_count": 11,
      "outputs": []
    },
    {
      "cell_type": "code",
      "metadata": {
        "colab": {
          "base_uri": "https://localhost:8080/",
          "height": 279
        },
        "id": "9-g726ShcOu6",
        "outputId": "8a40896f-0aec-42db-f0ed-9736b8d6aa41"
      },
      "source": [
        "x_line=np.array([i for i in range(1,11)])\n",
        "y_line=predict(x_line)\n",
        "plt.plot(x_line,y_line,c='r')\n",
        "plt.scatter(hours,scores)\n",
        "plt.xlabel('Hours')\n",
        "plt.ylabel('Scores')\n",
        "plt.show()"
      ],
      "execution_count": 12,
      "outputs": [
        {
          "output_type": "display_data",
          "data": {
            "image/png": "[encoded data removed]",
            "text/plain": [
              "<Figure size 432x288 with 1 Axes>"
            ]
          },
          "metadata": {
            "tags": [],
            "needs_background": "light"
          }
        }
      ]
    },
    {
      "cell_type": "code",
      "metadata": {
        "colab": {
          "base_uri": "https://localhost:8080/",
          "height": 279
        },
        "id": "Rd0xTXmxisen",
        "outputId": "316e30ce-ad2c-49ac-c29c-3f524f1f88a4"
      },
      "source": [
        "plt.plot([i+1 for i in range(train_steps) ],losses)\n",
        "plt.xlabel('Training Step')\n",
        "plt.ylabel('Loss')\n",
        "plt.show()"
      ],
      "execution_count": 15,
      "outputs": [
        {
          "output_type": "display_data",
          "data": {
            "image/png": "[encoded data removed]",
            "text/plain": [
              "<Figure size 432x288 with 1 Axes>"
            ]
          },
          "metadata": {
            "tags": [],
            "needs_background": "light"
          }
        }
      ]
    },
    {
      "cell_type": "code",
      "metadata": {
        "colab": {
          "base_uri": "https://localhost:8080/"
        },
        "id": "rVFTg0aDjEHn",
        "outputId": "34cf0465-8266-499a-804a-617cfffc33cf"
      },
      "source": [
        "predict(9.25)"
      ],
      "execution_count": 14,
      "outputs": [
        {
          "output_type": "execute_result",
          "data": {
            "text/plain": [
              "92.11970895934449"
            ]
          },
          "metadata": {
            "tags": []
          },
          "execution_count": 14
        }
      ]
    }
  ]
}